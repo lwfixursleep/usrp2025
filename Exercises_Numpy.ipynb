{
 "cells": [
  {
   "cell_type": "markdown",
   "metadata": {},
   "source": [
    "# Exercise numpy\n",
    "The ultimate goal of this exercise is to compare the position of stars in a patch of sky as measured in two different surveys. The main task at hand is to identify matching positions of stars between the surveys. For this, we will need to compare the positions of all stars in one survey to the position of all stars in the other survey. This task can be extremely time consuming if not implemented properly, we will therefore use this to compare different coding style and their impact on computation time. \n",
    "\n",
    "If time allows, we will move on to represent the results of our analysis in a meaningfull way."
   ]
  },
  {
   "cell_type": "code",
   "execution_count": null,
   "metadata": {},
   "outputs": [],
   "source": [
    "import numpy as np \n",
    "import matplotlib.pyplot as plt #We might need this\n"
   ]
  },
  {
   "cell_type": "code",
   "execution_count": null,
   "metadata": {},
   "outputs": [],
   "source": [
    "#First, let us load the data\n",
    "#Catalog from HSC \n",
    "cat_hsc = np.loadtxt('./Catalog_HSC.csv')\n",
    "x_hsc = cat_hsc[:,0]\n",
    "y_hsc = cat_hsc[:,1]\n",
    "#Catalog from HST\n",
    "cat_hst = np.loadtxt('./Catalog_HST.csv')\n",
    "x_hst = cat_hst[:,0]\n",
    "y_hst = cat_hst[:,1]"
   ]
  },
  {
   "cell_type": "markdown",
   "metadata": {},
   "source": [
    "Check that the loaded data are consistent with what we expect: (ra, dec) coordinates of the same patch of sky"
   ]
  },
  {
   "cell_type": "code",
   "execution_count": null,
   "metadata": {},
   "outputs": [],
   "source": [
    "#First, check the number of stars in each survey:\n",
    "ns_hst = #fill in\n",
    "ns_hsc = #...\n",
    "#Print the result\n",
    "print()"
   ]
  },
  {
   "cell_type": "code",
   "execution_count": null,
   "metadata": {},
   "outputs": [],
   "source": [
    "#This is a graphic representation of our data content:\n",
    "%matplotlib inline\n",
    "plt.title('star catalogs in COSMOS')\n",
    "plt.plot(x_hsc, y_hsc, 'or', label = 'hsc catalog')\n",
    "plt.plot(x_hst, y_hst, 'ob', label = 'hst catalog')\n",
    "plt.legend()\n",
    "plt.xlabel('ra')\n",
    "plt.ylabel('dec')\n",
    "plt.show()"
   ]
  },
  {
   "cell_type": "markdown",
   "metadata": {},
   "source": [
    "To begin with, let's write a function that returns the algebraic distance between two points"
   ]
  },
  {
   "cell_type": "code",
   "execution_count": null,
   "metadata": {},
   "outputs": [],
   "source": [
    "def distance(point1, point2):\n",
    "    ''' Returns the distance between two points with coordinates (x,y).\n",
    "    \n",
    "    Parameters\n",
    "    ----------\n",
    "    point1: list\n",
    "        2D coordinates of a point \n",
    "    point2: list\n",
    "        2D coordinates of a point \n",
    "        \n",
    "    Returns\n",
    "    -------\n",
    "    d: float\n",
    "        the distance between point1 and point2\n",
    "    '''\n",
    "    \n",
    "    return"
   ]
  },
  {
   "cell_type": "markdown",
   "metadata": {},
   "source": [
    "Now let's test it by comparing the distance between the first point of each dataset."
   ]
  },
  {
   "cell_type": "code",
   "execution_count": null,
   "metadata": {},
   "outputs": [],
   "source": [
    "point1 = [x_hst[0], y_hst[0]]\n",
    "point2 = [x_hsc[0], y_hsc[0]]\n",
    "print(distance(point1, point2))\n",
    "# Answer should be 0.6648994838877168"
   ]
  },
  {
   "cell_type": "markdown",
   "metadata": {},
   "source": [
    "Let's take it one step further and compare the distance between one point and a set of points"
   ]
  },
  {
   "cell_type": "code",
   "execution_count": null,
   "metadata": {},
   "outputs": [],
   "source": [
    "def point_to_points_distance(point, coordinates):\n",
    "    ''' Returns the distance between one point and all the points in coordinates.\n",
    "    \n",
    "    Parameters\n",
    "    ----------\n",
    "    point: list\n",
    "        2D coordinates of a point \n",
    "    coordinates: list\n",
    "        set of N 2D coordinates stored in a list with shape Nx2\n",
    "        \n",
    "    Returns\n",
    "    -------\n",
    "    d: list\n",
    "        the distance between point and each point in coordinates in an array with size N\n",
    "    '''\n",
    "    #Declaring an empty list\n",
    "    d = []\n",
    "    for c in coordinates:\n",
    "        # for each point in coordinates, take the distance to point and concatenate it to d \n",
    "        d.append(distance(point, c))\n",
    "    #make d a numpy array and return it\n",
    "    return np.array(d)"
   ]
  },
  {
   "cell_type": "markdown",
   "metadata": {},
   "source": [
    "Let's test it on the first 10 points in the HSC catalog and the first point of the HST catalog"
   ]
  },
  {
   "cell_type": "code",
   "execution_count": null,
   "metadata": {},
   "outputs": [],
   "source": [
    "coords = np.concatenate((x_hsc[:10,None], y_hsc[:10,None]), axis = 1)\n",
    "print(point_to_points_distance(point1, coords))\n",
    "# The answer should look like [0.66489948 0.4628197  0.39672485 0.43854084 0.32165335 0.30223269\n",
    "# 0.65765909 0.65411548 0.6474303  0.79301678]"
   ]
  },
  {
   "cell_type": "markdown",
   "metadata": {},
   "source": [
    "Now let's get to work. We would like to associate stars in one survey to their conterpart (if it exists) in the other survey. We will start by comparing the positions between each point of one survey to the position of each point in the other survey.\n",
    "\n",
    "First, write a function that takes two sets of coordinates (hsc and hst) and returns the distance from each point of one survey to each point of the other, such that the output should be an array of size (n_hst x n_hsc) or (n_hsc x n_hst).\n",
    "\n",
    "PS: if you have several (different) ideas about how to implement this, feel free to code them!"
   ]
  },
  {
   "cell_type": "code",
   "execution_count": null,
   "metadata": {},
   "outputs": [],
   "source": [
    "def your_function(coord1, coord2): # Choose an adequate name for your function\n",
    "    ''' Returns the distance between points in two sets of coordinates.\n",
    "    \n",
    "    Parameters\n",
    "    coord1: array\n",
    "        array of size Nx2 that contains the [x, y] positions of a catalog \n",
    "    coord2: array\n",
    "        array of size Mx2 that contains the [x, y] positions of a catalog \n",
    "    \n",
    "    Returns\n",
    "    dist: array\n",
    "        array of size NxM that contains the euclidean distances between points in the two datasets\n",
    "    '''\n",
    "    \n",
    "    return\n"
   ]
  },
  {
   "cell_type": "markdown",
   "metadata": {},
   "source": [
    "Now, let us take a look at the computation times:"
   ]
  },
  {
   "cell_type": "code",
   "execution_count": null,
   "metadata": {},
   "outputs": [],
   "source": [
    "# In order not to spend the whole evening here, let us reduce the dataset size:\n",
    "#Select stars in hsc in the frame: 150.0<x<150.1 and 2.0<y<2.1\n",
    "loc_hsc = #please fill these\n",
    "x_hsc_exp = x_hsc[loc_hsc]\n",
    "y_hsc_exp = y_hsc[loc_hsc]\n",
    "\n",
    "loc_hst = #And that\n",
    "x_hst_exp = x_hst[loc_hst]\n",
    "y_hst_exp = y_hst[loc_hst]\n",
    "#Once you are done with the exercise, feel free to try with larger selections to see how it impacts computation time"
   ]
  },
  {
   "cell_type": "code",
   "execution_count": null,
   "metadata": {},
   "outputs": [],
   "source": [
    "import distances as dt\n",
    "# Insert the names of your functions in the following array:\n",
    "methods = [your_function, dt.double_loop, dt.with_indices, dt.one_loop, dt.one_loop_reverse, dt.scipy_version, dt.newaxis_magic]\n",
    "#An empty variable to store computation time\n",
    "timers = []\n",
    "# Making sets of coordinates of size Nx2 to feed your functions with the right format\n",
    "c2 = np.concatenate((x_hst_exp[:,None], y_hst_exp[:,None]), axis = 1)\n",
    "c1 = np.concatenate((x_hsc_exp[:,None], y_hsc_exp[:,None]), axis = 1)\n",
    "\n",
    "for f in methods:\n",
    "    print(f.__name__)\n",
    "    r = %timeit -o f(c1, c2)\n",
    "    timers.append(r)"
   ]
  },
  {
   "cell_type": "code",
   "execution_count": null,
   "metadata": {},
   "outputs": [],
   "source": [
    "#View the results:\n",
    "plt.figure(figsize=(10,6))\n",
    "plt.bar(np.arange(len(methods)), [r.best*1000 for r in timers], log=True)  # Set log to True for logarithmic scale\n",
    "plt.xticks(np.arange(len(methods))+0.2, [f.__name__ for f in methods], rotation=30)\n",
    "plt.xlabel('Method')\n",
    "plt.ylabel('Time (ms)')\n",
    "plt.yscale('log')\n",
    "plt.show()"
   ]
  },
  {
   "cell_type": "markdown",
   "metadata": {},
   "source": [
    "# Identifying matching stars (optional)\n",
    "Now that we know all the distances, let us find the stars in each datasets that correspond to one another.\n",
    "This is done by finding, for each star, the minimum distance recorded between the two datasets.\n",
    "\n",
    "One problem that arises with deriving an array that computes all the distances is that we end up with a very LARGE array, which becomes impractical for fast computations. Instead, we will modify one of the previous functions so that it returns the coordinates of stars that have a match in both datasets along with their distance.\n",
    "\n",
    "Because all stars in a given set do not have a counter part in the other, we will only accept a match if the minimum distance between two points is smaller than 0.17 arcseconds (the size of an HSC pixel).\n",
    "\n",
    "In other words, for each star in one dataset, find the star in the other dataset that is the closest (minimum distance), check wether that star is closer that 0.17 arcseconds, if yes, store its coordinates along with the computed distance. At the end of the function, return arrays with the matching star coordinates and their distance to their match in the other dataset."
   ]
  },
  {
   "cell_type": "code",
   "execution_count": null,
   "metadata": {},
   "outputs": [],
   "source": [
    "#Let us compute the distances as we did before, but this time, with the whole dataset.\n",
    "#Of course, a fast method is to be prefered\n",
    "\n",
    "c1 = #Please fill these. Same as before but with all the dataset\n",
    "c2 = #\n"
   ]
  },
  {
   "cell_type": "code",
   "execution_count": null,
   "metadata": {},
   "outputs": [],
   "source": [
    "def get_match(coord_ref, coord2, rad):\n",
    "    '''\n",
    "    matches coordinates of stars between two datasets and computes the distance between the position of the stars in the 2 datasets\n",
    "\n",
    "    Parameters\n",
    "    coord_ref: numpy array (Nx2)\n",
    "        coordinates (ra, dec) of stars in a FoV from a given dataset\n",
    "    coord2: numpy array (Mx2)\n",
    "        coordinates (ra dec) of stars in the same FoV in an other dataset\n",
    "    rad: float\n",
    "        radius (deg) around stars in coord_ref where to find a corresponding star in coord2\n",
    "            \n",
    "    Returns\n",
    "    modulus:numpy array (N')\n",
    "        containing the distance between matching stars\n",
    "    v_coord: numpy array(N',2)\n",
    "        coordinates in the coord_ref set of matching stars\n",
    "            \n",
    "\n",
    "    '''\n",
    "    #Declare two empty arrays to store the coordinates and distances.\n",
    "    #...\n",
    "    s = np.size(coord_ref[:,0])#This is just for representation\n",
    "    print('number of points in reference catalog: {0}'.format(s))\n",
    "    #for each star in coord_ref\n",
    "    for i,c in enumerate(coord_ref):\n",
    "\n",
    "        #This is just here to keep track of the algorithm's progression\n",
    "        if i % 3000 == 0:\n",
    "            print('point number {0} out of {1}'.format(i, s))\n",
    "        #compute the distance from c to all stars in coord2\n",
    "        r = #...\n",
    "        #Find the closest star from coord 2 to c\n",
    "        loc = #...\n",
    "\n",
    "        #Make sure that there is only one star matching (it can happen that 2 match)\n",
    "        #Here I just arbitrarily pick one, but you can find a way to discard these stars\n",
    "        if np.size(loc) > 1:\n",
    "            loc = loc[0]\n",
    "\n",
    "        #record the distance between matching stars\n",
    "        rmin = #...\n",
    "        \n",
    "        #Check whether the closest distance is smaller than rad\n",
    "        if #...:\n",
    "            #if yes, place the coordinates and the distance in an array\n",
    "            #... tip: use append()\n",
    "\n",
    "    return #..."
   ]
  },
  {
   "cell_type": "code",
   "execution_count": null,
   "metadata": {},
   "outputs": [],
   "source": [
    "# Use your function \n",
    "coord , r = get_match(c1, c2, 0.3/3600.)"
   ]
  },
  {
   "cell_type": "markdown",
   "metadata": {},
   "source": [
    "Now I would like to have a representation for the work we have done that informs me about what is in my datasets. Namely, what is the error on star positions between the two datasets? We would like to have a global view of this error but also an impression of the error as a function of the position on the field. For the latter, I suggest you use the 'scatter' function from matplotlib.\n"
   ]
  },
  {
   "cell_type": "code",
   "execution_count": null,
   "metadata": {},
   "outputs": [],
   "source": [
    "#Spatial distribution of distances\n",
    "plt.title('distribution of distances accross the FoV')\n",
    "#..."
   ]
  },
  {
   "cell_type": "code",
   "execution_count": null,
   "metadata": {},
   "outputs": [],
   "source": [
    "#Global representation\n",
    "#..."
   ]
  },
  {
   "cell_type": "code",
   "execution_count": null,
   "metadata": {},
   "outputs": [],
   "source": []
  }
 ],
 "metadata": {
  "kernelspec": {
   "display_name": "Python 3 (ipykernel)",
   "language": "python",
   "name": "python3"
  },
  "language_info": {
   "codemirror_mode": {
    "name": "ipython",
    "version": 3
   },
   "file_extension": ".py",
   "mimetype": "text/x-python",
   "name": "python",
   "nbconvert_exporter": "python",
   "pygments_lexer": "ipython3",
   "version": "3.9.7"
  }
 },
 "nbformat": 4,
 "nbformat_minor": 4
}
